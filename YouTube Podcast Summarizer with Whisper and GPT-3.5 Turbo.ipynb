{
 "cells": [
  {
   "cell_type": "markdown",
   "id": "bd1fa999",
   "metadata": {},
   "source": [
    "# YouTube Podcast Summarizer with Whisper and GPT-3.5 Turbo"
   ]
  },
  {
   "cell_type": "code",
   "execution_count": 1,
   "id": "dd2fdf15",
   "metadata": {},
   "outputs": [],
   "source": [
    "import openai\n",
    "import os\n",
    "import re\n",
    "from pytube import YouTube\n"
   ]
  },
  {
   "cell_type": "code",
   "execution_count": 2,
   "id": "23de7001",
   "metadata": {},
   "outputs": [],
   "source": [
    "os.environ['OPENAI_API_KEY'] = 'YOUR_OPENAI_API_KEY'   # paste your api key here\n",
    "openai.api_key = os.getenv('OPENAI_API_KEY')"
   ]
  },
  {
   "cell_type": "code",
   "execution_count": 3,
   "id": "deb35c09",
   "metadata": {},
   "outputs": [],
   "source": [
    "from openai import OpenAI\n",
    "client = OpenAI()"
   ]
  },
  {
   "cell_type": "code",
   "execution_count": 13,
   "id": "d50927bc",
   "metadata": {},
   "outputs": [],
   "source": [
    "def youtube_audio_downloader(link):\n",
    "    if 'youtube.com' not in link:\n",
    "        print('invalid youtube link')\n",
    "        return False\n",
    "    \n",
    "    yt = YouTube(link)\n",
    "    audio = yt.streams.filter(only_audio = True).first()\n",
    "    print('downloading....', end = '')\n",
    "    output_file = audio.download()\n",
    "    if os.path.exists(output_file):\n",
    "        print('done')\n",
    "    else:\n",
    "        print('error downloading audio file')\n",
    "        return False\n",
    "    \n",
    "    basename = os.path.basename(output_file)\n",
    "    name, extension = os.path.splitext(basename)\n",
    "    audio_file = f'{name}.mp3'\n",
    "    audio_file = re.sub('\\s+','-',audio_file)\n",
    "    os.rename(basename, audio_file)\n",
    "    return audio_file\n",
    " \n",
    "    \n",
    "def transcribe(audio_file):\n",
    "    if not os.path.exists(audio_file):\n",
    "        print('audio file does not exists')\n",
    "        return False\n",
    "    \n",
    "    with open(audio_file, 'rb') as f:\n",
    "        print('starting transcribing...', end = '')\n",
    "        transcript = client.audio.translations.create(model='whisper-1', file=f)\n",
    "        print('done')\n",
    "        \n",
    "        name, extension = os.path.splitext(audio_file)\n",
    "        transcript_filename = f'transcript-{name}.txt'\n",
    "        with open(transcript_filename,'w') as f:\n",
    "            f.write(transcript.text)\n",
    "            \n",
    "    return transcript_filename\n",
    "\n",
    "\n",
    "\n",
    "def summarize(transcript_filename):\n",
    "    \n",
    "    \n",
    "    with open(transcript_filename) as f:\n",
    "        transcript = f.read()\n",
    "        \n",
    "    system_prompt = 'I want you to act as a life coach'\n",
    "    prompt = f'''Create a summary of the following text.\n",
    "    Text: {transcript}\n",
    "    Add a title to the summary \n",
    "    Your summary should be informative and factual, covering the most important topic.\n",
    "    Start a summary with an introductory paragraph that gives overview of the topic followed by\n",
    "    Bullet points if possible and end the summary with a conclusion paragraph.\n",
    "    \n",
    "    '''\n",
    "    print('starting to summarize')\n",
    "    \n",
    "    response= client.chat.completions.create(\n",
    "    model= 'gpt-3.5-turbo',\n",
    "        messages= [\n",
    "            {'role':'system','content':system_prompt},\n",
    "            {'role':'user','content': prompt}\n",
    "        ],\n",
    "        max_tokens = 2048,\n",
    "        temperature = 1\n",
    "    )\n",
    "    \n",
    "    print('done')\n",
    "    \n",
    "    r= response.choices[0].message.content\n",
    "    return r\n"
   ]
  },
  {
   "cell_type": "code",
   "execution_count": 14,
   "id": "9a320c8d",
   "metadata": {},
   "outputs": [
    {
     "name": "stdout",
     "output_type": "stream",
     "text": [
      "downloading....done\n",
      "starting transcribing...done\n",
      "starting to summarize\n",
      "done\n",
      "\n",
      "\n",
      "Title: Understanding the Relationship Between Tenacity, Willpower, and the AMCC\n",
      "\n",
      "Introduction:\n",
      "The text delves into the interconnected concepts of stress, willpower, motivation, discipline, and the role of the AMCC (anterior mid-cingulate cortex) in driving tenacity and willpower. It highlights the importance of challenging oneself and pushing past comfort zones to activate the AMCC and enhance various health metrics and cognitive functions.\n",
      "\n",
      "Key Points:\n",
      "- Stress perception and its impact on health depend on mindset and beliefs\n",
      "- Voluntary exercise leads to health improvements, while forced exercise can have negative effects\n",
      "- The AMCC plays a crucial role in generating tenacity and willpower for challenging tasks\n",
      "- Success in resisting temptation or completing difficult tasks increases the size and activity of the AMCC\n",
      "- Engaging in micro-sucks and macro-sucks, challenging tasks one does not want to do, can activate the AMCC and enhance willpower\n",
      "- Setting deadlines, facing discomfort, and going \"one more\" beyond completion can boost tenacity and willpower\n",
      "- The link between pushing oneself, activating the AMCC, and improving cognitive function\n",
      "\n",
      "Conclusion:\n",
      "Understanding the importance of engaging in challenging tasks, pushing past comfort zones, and activating the AMCC can lead to enhanced willpower, tenacity, and overall well-being. Implementing strategies like micro-sucks, facing discomfort, and setting goals to go beyond completion can help individuals build resilience, increase motivation, and achieve personal growth.\n"
     ]
    }
   ],
   "source": [
    "link = 'https://www.youtube.com/watch?v=8OHYynw7Yh4'\n",
    "mp3_file = youtube_audio_downloader(link)\n",
    "transcript_file= transcribe(mp3_file)\n",
    "summary = summarize(transcript_file)\n",
    "print('\\n')\n",
    "print(summary)"
   ]
  },
  {
   "cell_type": "code",
   "execution_count": null,
   "id": "3b27ab54",
   "metadata": {},
   "outputs": [],
   "source": []
  }
 ],
 "metadata": {
  "kernelspec": {
   "display_name": "Python 3 (ipykernel)",
   "language": "python",
   "name": "python3"
  },
  "language_info": {
   "codemirror_mode": {
    "name": "ipython",
    "version": 3
   },
   "file_extension": ".py",
   "mimetype": "text/x-python",
   "name": "python",
   "nbconvert_exporter": "python",
   "pygments_lexer": "ipython3",
   "version": "3.11.4"
  }
 },
 "nbformat": 4,
 "nbformat_minor": 5
}
